
#Regular EDA (Exploration Data Analysis)

import pandas as pd
import numpy as np
import sklearn
import matplotlib.pyplot as plt


# Models from sklearn

from sklearn.ensemble import RandomForestClassifier
from sklearn.linear_model import LogisticRegression
from sklearn.neighbors import KNeighborsClassifier

#Model Evaluation

from sklearn.model_selection import train_test_split, cross_val_score
from sklearn.model_selection import RandomizedSearchCV, GridSearchCV
from sklearn.metrics import confusion_matrix, classification_report
from sklearn.metrics import precision_score, recall_score, f1_score
from sklearn.metrics import roc_curve



df = pd.read_csv("6.1 heart-disease.csv")


df.head()


df.tail()


df.shape


df["target"]. value_counts()



