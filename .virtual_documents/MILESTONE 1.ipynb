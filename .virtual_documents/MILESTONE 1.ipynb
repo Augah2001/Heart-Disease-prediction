
#Regular EDA (Exploration Data Analysis)

import pandas as pd
import numpy as np
import sklearn
import matplotlib.pyplot as plt
import seaborn as sns


# Models from sklearn

from sklearn.ensemble import RandomForestClassifier
from sklearn.linear_model import LogisticRegression
from sklearn.neighbors import KNeighborsClassifier

#Model Evaluation

from sklearn.model_selection import train_test_split, cross_val_score
from sklearn.model_selection import RandomizedSearchCV, GridSearchCV
from sklearn.metrics import confusion_matrix, classification_report
from sklearn.metrics import precision_score, recall_score, f1_score
from sklearn.metrics import roc_curve



df = pd.read_csv("6.1 heart-disease.csv")


df.head()


df.tail()


df.shape


df["target"]. value_counts()


df["target"].value_counts().plot(kind="bar", color=["red", "blue"])


df.info()


df.describe()


df.isna().sum()


df['sex'].value_counts()


sex_compare_target = pd.crosstab(df.target, df.sex)


sex_compare_target


sex_compare_target.plot(kind="bar", color=["orange", "blue" ])

plt.xlabel("0 - No h_disease, 1- h_disease")
plt.ylabel("number")
plt.title("Heart Disease Frequency for sex")
plt.legend(['female', 'male'])
plt.xticks(rotation= 45)


# Create a plot





plt.figure(figsize=(10, 6))

# scatter positives
plt.scatter(df.age[df.target == 1], df.thalach[df.target == 1])

# scatter negatives
plt.scatter(df.age[df.target == 0], df.thalach[df.target == 0])

plt.title("Age vs Max Heart Rate for Heart disease ")
plt.xlabel("Age")
plt.ylabel("Max H_rate")
plt.legend(["Disease", " No Diseases"]);


df.slope.value_counts()


slope_vs_target = pd.crosstab(df.slope, df.target)


slope_vs_target


def plot_config(title, xlabel, ylabel, legend):
    plt.xlabel(xlabel)
    plt.ylabel(ylabel)
    plt.title(title)
    plt.legend(legend)
    plt.xticks(rotation= 45)


slope_vs_target.plot(kind ='bar')
plot_config("slope vs target", "0:upsloping, 1: flat, 2: downsloping", "number", ["no disease", "disease"])



cp_vs_target = pd.crosstab(df.cp, df.target)


cp_vs_target


cp_vs_target.plot(kind="bar")

plot_config("CHEST PAIN VS TARGET","0: typical angina, 1: atypical angina, 2: non-anginal pain, 3: asymptomatic", "number", ["no disease", "disease"])


corr_matrix = df.corr()

fig, ax = plt.subplots(figsize=(10, 6))

ax = sns.heatmap(corr_matrix, annot = True, linewidths = 0.5, cmap = 'RdYlGn', fmt= ".2f")





